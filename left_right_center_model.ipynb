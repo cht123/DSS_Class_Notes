{
  "nbformat": 4,
  "nbformat_minor": 0,
  "metadata": {
    "colab": {
      "name": "left_right_center_model.ipynb",
      "provenance": [],
      "collapsed_sections": [],
      "include_colab_link": true
    },
    "kernelspec": {
      "name": "python3",
      "display_name": "Python 3"
    }
  },
  "cells": [
    {
      "cell_type": "markdown",
      "metadata": {
        "id": "view-in-github",
        "colab_type": "text"
      },
      "source": [
        "<a href=\"https://colab.research.google.com/github/cht123/DSS_Class_Notes/blob/master/left_right_center_model.ipynb\" target=\"_parent\"><img src=\"https://colab.research.google.com/assets/colab-badge.svg\" alt=\"Open In Colab\"/></a>"
      ]
    },
    {
      "cell_type": "markdown",
      "metadata": {
        "id": "f9Fs2dhIRZXZ",
        "colab_type": "text"
      },
      "source": [
        "#Imports"
      ]
    },
    {
      "cell_type": "code",
      "metadata": {
        "id": "5ss6d_6KRAeH",
        "colab_type": "code",
        "colab": {}
      },
      "source": [
        "import pandas as pd\n",
        "from random import choice\n",
        "import numpy as np\n",
        "import matplotlib.pyplot as plt\n",
        "\n",
        "from sklearn.model_selection import train_test_split\n",
        "from sklearn import datasets\n",
        "from sklearn.metrics import mean_squared_error\n",
        "\n",
        "from sklearn.ensemble import RandomForestRegressor"
      ],
      "execution_count": 0,
      "outputs": []
    },
    {
      "cell_type": "markdown",
      "metadata": {
        "id": "MMR7Ik6TRjEB",
        "colab_type": "text"
      },
      "source": [
        "#Game functions"
      ]
    },
    {
      "cell_type": "code",
      "metadata": {
        "id": "LmN8yDfgxc7U",
        "colab_type": "code",
        "colab": {}
      },
      "source": [
        "def roll_dice(dice):\n",
        "\n",
        "  '''Roll the dice for the round'''\n",
        "\n",
        "  d1_pos = choice(dice)\n",
        "  d2_pos = choice(dice)\n",
        "  d3_pos = choice(dice)\n",
        "\n",
        "  return d1_pos, d2_pos, d3_pos"
      ],
      "execution_count": 0,
      "outputs": []
    },
    {
      "cell_type": "code",
      "metadata": {
        "id": "Ncm56mhKQZSg",
        "colab_type": "code",
        "colab": {}
      },
      "source": [
        "def pay(turn, player, player_bank, player_moves):\n",
        "\n",
        "  '''Determine the actions once the dice are rolled'''\n",
        "\n",
        "  l_player = player_moves[player][1][0]\n",
        "  r_player = player_moves[player][1][1]\n",
        "  l_player_add = 0\n",
        "  r_player_add = 0\n",
        "  pot_add = 0\n",
        "  roll = 0\n",
        "\n",
        "  if player_bank[player] >2:\n",
        "    roll = 3\n",
        "  elif player_bank[player] ==2:\n",
        "    roll = 2\n",
        "  elif player_bank[player] ==1:\n",
        "    roll = 1\n",
        "  else:\n",
        "    roll = 0\n",
        "  for i in range(roll):\n",
        "    if turn[i] == 'R':\n",
        "      r_player_add = r_player_add + 1\n",
        "    elif turn[i] == 'L':\n",
        "      l_player_add = l_player_add + 1\n",
        "    elif turn[i] == 'C':\n",
        "      pot_add = pot_add + 1\n",
        "    else:\n",
        "      None\n",
        "  return l_player, l_player_add, r_player, r_player_add, pot_add"
      ],
      "execution_count": 0,
      "outputs": []
    },
    {
      "cell_type": "code",
      "metadata": {
        "id": "R1t2bKZ7g2rb",
        "colab_type": "code",
        "colab": {}
      },
      "source": [
        "def print_begin(p, player_bank, pot):\n",
        "  print('------------------------------------------------------------------------------')\n",
        "  print('Player {} is rolling and has {}'.format(p, player_bank[p]))\n",
        "  print('The pot is at {}'.format(pot))"
      ],
      "execution_count": 0,
      "outputs": []
    },
    {
      "cell_type": "code",
      "metadata": {
        "id": "0ajM6MZAhE9a",
        "colab_type": "code",
        "colab": {}
      },
      "source": [
        "def print_end(turn, pot, player_bank, nz_player_bank, round_count):\n",
        "  print('The dice are: {}'.format(turn))\n",
        "  print('The pot ends at {}'.format(pot))\n",
        "  print('The player bank is: {}'.format(player_bank))\n",
        "  print('The nonzero bank is: {}'.format(nz_player_bank))\n",
        "  print('{} players still have money'.format(len(nz_player_bank)))\n",
        "  print('Round: {}'.format(round_count))\n",
        "  "
      ],
      "execution_count": 0,
      "outputs": []
    },
    {
      "cell_type": "code",
      "metadata": {
        "id": "XqQlQbcYc1y0",
        "colab_type": "code",
        "colab": {}
      },
      "source": [
        "def run_game(sim, player_count, dollars):\n",
        "  \n",
        "  game_detail = pd.DataFrame(columns=['round_count', 'player', 'dice_1', 'dice_2', 'dice_3', 'pot'])\n",
        "  dice = ['L', 'R', 'C', 'DOT', 'DOT', 'DOT']\n",
        "  pot = 0\n",
        "  round_count = 0\n",
        "  all_data = []\n",
        "\n",
        "  player = [i for i in range(0,player_count)]\n",
        "  player_bank = {i:dollars for i in range(0,player_count)}\n",
        "  player_moves = [[i, [player[player.index(i)-1], 0]] if i == player_count -1 else [i, [player[player.index(i)-1], player.index(i)+1]] for i in player]\n",
        "\n",
        "  going = True\n",
        "  while going:\n",
        "    \n",
        "    for p in player:\n",
        "      \n",
        "      # print_begin(p, player_bank, pot)\n",
        "      round_data = []\n",
        "      round_count+=1\n",
        "\n",
        "      if player_bank[p] > 0:\n",
        "        \n",
        "        # roll the dice\n",
        "        turn = roll_dice(dice)\n",
        "        \n",
        "        # determine who paid gets paid and how much\n",
        "        dist = player_moves[p]\n",
        "        result = pay(turn, p, player_bank, player_moves)\n",
        "        \n",
        "        # distribute money\n",
        "        player_bank[result[0]] = player_bank[result[0]] + result[1]\n",
        "        player_bank[result[2]] = player_bank[result[2]] + result[3]\n",
        "        pot = pot + result[4]\n",
        "        player_bank[p] = player_bank[p] - (result[1] + result[3] + result[4])\n",
        "        nz_player_bank = {k:v for (k,v) in player_bank.items() if v>0}\n",
        "        \n",
        "      \n",
        "      # print_end(turn, pot, player_bank, nz_player_bank, round_count)\n",
        "\n",
        "      round_data = [sim, player_count, dollars, round_count, pot, player_count * dollars]\n",
        "\n",
        "      all_data.append(round_data)\n",
        "      \n",
        "      if len(nz_player_bank) == 1:\n",
        "        going = False\n",
        "        break\n",
        "\n",
        "  return all_data"
      ],
      "execution_count": 0,
      "outputs": []
    },
    {
      "cell_type": "code",
      "metadata": {
        "id": "Fv4mcd0usIHA",
        "colab_type": "code",
        "colab": {}
      },
      "source": [
        "def run_sim(s, p, d):\n",
        "\n",
        "  sim_data = []\n",
        "\n",
        "  for r in range(s):\n",
        "    data = run_game(r,p,d)\n",
        "    sim_data.append(data)\n",
        "    \n",
        "  return sim_data"
      ],
      "execution_count": 0,
      "outputs": []
    },
    {
      "cell_type": "code",
      "metadata": {
        "id": "72l53lxnsIDp",
        "colab_type": "code",
        "colab": {}
      },
      "source": [
        "big_sim = run_sim(5000, 20, 5)"
      ],
      "execution_count": 0,
      "outputs": []
    },
    {
      "cell_type": "code",
      "metadata": {
        "id": "hR1dvofBsH1V",
        "colab_type": "code",
        "colab": {}
      },
      "source": [
        "def convert_list(input_list):\n",
        "\n",
        "  k = []\n",
        "\n",
        "  for i in range(len(input_list)):\n",
        "    for j in range(len(input_list[i])):\n",
        "      k.append(input_list[i][j])\n",
        "  data_df = pd.DataFrame(data = k, columns = ['sim', 'player_count', 'dollars', 'round_count', 'pot', 'total_dollars'])\n",
        "\n",
        "  return data_df"
      ],
      "execution_count": 0,
      "outputs": []
    },
    {
      "cell_type": "code",
      "metadata": {
        "id": "mH158UQXsHnE",
        "colab_type": "code",
        "colab": {}
      },
      "source": [
        "data_df = convert_list(big_sim)"
      ],
      "execution_count": 0,
      "outputs": []
    },
    {
      "cell_type": "code",
      "metadata": {
        "id": "0P94i-H2JqGm",
        "colab_type": "code",
        "colab": {}
      },
      "source": [
        "hist_data = data_df.sort_values('round_count').drop_duplicates(['sim'],keep='last')"
      ],
      "execution_count": 0,
      "outputs": []
    },
    {
      "cell_type": "code",
      "metadata": {
        "id": "c7yFbzCRLVyF",
        "colab_type": "code",
        "outputId": "c4665218-fb24-4e14-d9a2-aa0e152425c0",
        "colab": {
          "base_uri": "https://localhost:8080/",
          "height": 379
        }
      },
      "source": [
        "plt.hist(hist_data['round_count'])"
      ],
      "execution_count": 0,
      "outputs": [
        {
          "output_type": "execute_result",
          "data": {
            "text/plain": [
              "(array([4.200e+01, 6.970e+02, 1.908e+03, 1.466e+03, 6.420e+02, 1.920e+02,\n",
              "        3.900e+01, 9.000e+00, 4.000e+00, 1.000e+00]),\n",
              " array([240. , 308.1, 376.2, 444.3, 512.4, 580.5, 648.6, 716.7, 784.8,\n",
              "        852.9, 921. ]),\n",
              " <a list of 10 Patch objects>)"
            ]
          },
          "metadata": {
            "tags": []
          },
          "execution_count": 20
        },
        {
          "output_type": "display_data",
          "data": {
            "image/png": "[encoded data removed]",
            "text/plain": [
              "<Figure size 432x288 with 1 Axes>"
            ]
          },
          "metadata": {
            "tags": []
          }
        }
      ]
    },
    {
      "cell_type": "code",
      "metadata": {
        "id": "8jWzVU8NNDJz",
        "colab_type": "code",
        "colab": {}
      },
      "source": [
        "mean = hist_data['round_count'].mean()\n",
        "median = hist_data['round_count'].median()\n",
        "min = hist_data['round_count'].min()\n",
        "max = hist_data['round_count'].max()\n",
        "std = hist_data['round_count'].std()\n",
        "UCL = mean + 3 * std\n",
        "LCL = mean - 3 * std"
      ],
      "execution_count": 0,
      "outputs": []
    },
    {
      "cell_type": "code",
      "metadata": {
        "id": "I-pqFgXANlfr",
        "colab_type": "code",
        "outputId": "548eb243-2097-408b-d4ae-6649ba424715",
        "colab": {
          "base_uri": "https://localhost:8080/",
          "height": 143
        }
      },
      "source": [
        "print('Mean: {}'.format(mean))\n",
        "print('Median: {}'.format(median))\n",
        "print('Min: {}'.format(min))\n",
        "print('Max: {}'.format(max))\n",
        "print('Std: {}'.format(std))\n",
        "print('UCL: {}'.format(UCL))\n",
        "print('LCL: {}'.format(LCL))"
      ],
      "execution_count": 0,
      "outputs": [
        {
          "output_type": "stream",
          "text": [
            "Mean: 447.6968\n",
            "Median: 439.0\n",
            "Min: 240\n",
            "Max: 921\n",
            "Std: 73.03062072906712\n",
            "UCL: 666.7886621872013\n",
            "LCL: 228.60493781279862\n"
          ],
          "name": "stdout"
        }
      ]
    },
    {
      "cell_type": "markdown",
      "metadata": {
        "id": "RDixdTi4RRWp",
        "colab_type": "text"
      },
      "source": [
        "# Run random games to build a model"
      ]
    },
    {
      "cell_type": "code",
      "metadata": {
        "id": "kUvBvC3JQJlH",
        "colab_type": "code",
        "colab": {}
      },
      "source": [
        "def run_rand_sim(s, p, d):\n",
        "\n",
        "  sim_data = []\n",
        "\n",
        "  if p < 3 or d < 2:\n",
        "    print('Players must be greater than 2 and dollars must be greater than 1')\n",
        "  \n",
        "  else:\n",
        "\n",
        "    for r in range(s):\n",
        "\n",
        "      prand = choice(range(2,p))\n",
        "      drand = choice(range(1,d))\n",
        "      data = run_game(r,prand,drand)\n",
        "      sim_data.append(data)\n",
        "    \n",
        "  return sim_data"
      ],
      "execution_count": 0,
      "outputs": []
    },
    {
      "cell_type": "code",
      "metadata": {
        "id": "Me1w0MQxWNwX",
        "colab_type": "code",
        "colab": {}
      },
      "source": [
        "rand_sim = run_rand_sim(10000, 20, 10)"
      ],
      "execution_count": 0,
      "outputs": []
    },
    {
      "cell_type": "code",
      "metadata": {
        "id": "pfC4QErdf-6g",
        "colab_type": "code",
        "colab": {}
      },
      "source": [
        "rand_data_df = convert_list(rand_sim)"
      ],
      "execution_count": 0,
      "outputs": []
    },
    {
      "cell_type": "code",
      "metadata": {
        "id": "30ggGRgyhlR2",
        "colab_type": "code",
        "colab": {}
      },
      "source": [
        "rand_hist_data = rand_data_df.sort_values('round_count').drop_duplicates(['sim'],keep='last')"
      ],
      "execution_count": 0,
      "outputs": []
    },
    {
      "cell_type": "code",
      "metadata": {
        "id": "AoHClX1Hikar",
        "colab_type": "code",
        "outputId": "28aa1cb4-88b4-4f8f-f119-023a77f7813e",
        "colab": {
          "base_uri": "https://localhost:8080/",
          "height": 419
        }
      },
      "source": [
        "rand_hist_data"
      ],
      "execution_count": 0,
      "outputs": [
        {
          "output_type": "execute_result",
          "data": {
            "text/html": [
              "<div>\n",
              "<style scoped>\n",
              "    .dataframe tbody tr th:only-of-type {\n",
              "        vertical-align: middle;\n",
              "    }\n",
              "\n",
              "    .dataframe tbody tr th {\n",
              "        vertical-align: top;\n",
              "    }\n",
              "\n",
              "    .dataframe thead th {\n",
              "        text-align: right;\n",
              "    }\n",
              "</style>\n",
              "<table border=\"1\" class=\"dataframe\">\n",
              "  <thead>\n",
              "    <tr style=\"text-align: right;\">\n",
              "      <th></th>\n",
              "      <th>sim</th>\n",
              "      <th>player_count</th>\n",
              "      <th>dollars</th>\n",
              "      <th>round_count</th>\n",
              "      <th>pot</th>\n",
              "      <th>total_dollars</th>\n",
              "    </tr>\n",
              "  </thead>\n",
              "  <tbody>\n",
              "    <tr>\n",
              "      <th>1576067</th>\n",
              "      <td>7704</td>\n",
              "      <td>2</td>\n",
              "      <td>1</td>\n",
              "      <td>1</td>\n",
              "      <td>0</td>\n",
              "      <td>2</td>\n",
              "    </tr>\n",
              "    <tr>\n",
              "      <th>218880</th>\n",
              "      <td>1070</td>\n",
              "      <td>2</td>\n",
              "      <td>1</td>\n",
              "      <td>1</td>\n",
              "      <td>0</td>\n",
              "      <td>2</td>\n",
              "    </tr>\n",
              "    <tr>\n",
              "      <th>1717193</th>\n",
              "      <td>8382</td>\n",
              "      <td>2</td>\n",
              "      <td>1</td>\n",
              "      <td>1</td>\n",
              "      <td>1</td>\n",
              "      <td>2</td>\n",
              "    </tr>\n",
              "    <tr>\n",
              "      <th>1707912</th>\n",
              "      <td>8337</td>\n",
              "      <td>2</td>\n",
              "      <td>1</td>\n",
              "      <td>1</td>\n",
              "      <td>0</td>\n",
              "      <td>2</td>\n",
              "    </tr>\n",
              "    <tr>\n",
              "      <th>1644139</th>\n",
              "      <td>8033</td>\n",
              "      <td>2</td>\n",
              "      <td>3</td>\n",
              "      <td>1</td>\n",
              "      <td>0</td>\n",
              "      <td>6</td>\n",
              "    </tr>\n",
              "    <tr>\n",
              "      <th>...</th>\n",
              "      <td>...</td>\n",
              "      <td>...</td>\n",
              "      <td>...</td>\n",
              "      <td>...</td>\n",
              "      <td>...</td>\n",
              "      <td>...</td>\n",
              "    </tr>\n",
              "    <tr>\n",
              "      <th>521886</th>\n",
              "      <td>2507</td>\n",
              "      <td>16</td>\n",
              "      <td>9</td>\n",
              "      <td>804</td>\n",
              "      <td>143</td>\n",
              "      <td>144</td>\n",
              "    </tr>\n",
              "    <tr>\n",
              "      <th>1229701</th>\n",
              "      <td>5962</td>\n",
              "      <td>18</td>\n",
              "      <td>9</td>\n",
              "      <td>821</td>\n",
              "      <td>161</td>\n",
              "      <td>162</td>\n",
              "    </tr>\n",
              "    <tr>\n",
              "      <th>1442223</th>\n",
              "      <td>7058</td>\n",
              "      <td>19</td>\n",
              "      <td>9</td>\n",
              "      <td>823</td>\n",
              "      <td>169</td>\n",
              "      <td>171</td>\n",
              "    </tr>\n",
              "    <tr>\n",
              "      <th>1253215</th>\n",
              "      <td>6079</td>\n",
              "      <td>19</td>\n",
              "      <td>9</td>\n",
              "      <td>829</td>\n",
              "      <td>170</td>\n",
              "      <td>171</td>\n",
              "    </tr>\n",
              "    <tr>\n",
              "      <th>506263</th>\n",
              "      <td>2431</td>\n",
              "      <td>19</td>\n",
              "      <td>9</td>\n",
              "      <td>869</td>\n",
              "      <td>170</td>\n",
              "      <td>171</td>\n",
              "    </tr>\n",
              "  </tbody>\n",
              "</table>\n",
              "<p>10000 rows × 6 columns</p>\n",
              "</div>"
            ],
            "text/plain": [
              "          sim  player_count  dollars  round_count  pot  total_dollars\n",
              "1576067  7704             2        1            1    0              2\n",
              "218880   1070             2        1            1    0              2\n",
              "1717193  8382             2        1            1    1              2\n",
              "1707912  8337             2        1            1    0              2\n",
              "1644139  8033             2        3            1    0              6\n",
              "...       ...           ...      ...          ...  ...            ...\n",
              "521886   2507            16        9          804  143            144\n",
              "1229701  5962            18        9          821  161            162\n",
              "1442223  7058            19        9          823  169            171\n",
              "1253215  6079            19        9          829  170            171\n",
              "506263   2431            19        9          869  170            171\n",
              "\n",
              "[10000 rows x 6 columns]"
            ]
          },
          "metadata": {
            "tags": []
          },
          "execution_count": 52
        }
      ]
    },
    {
      "cell_type": "code",
      "metadata": {
        "id": "ySsLTGs1Kgsd",
        "colab_type": "code",
        "outputId": "29388174-5add-4158-909a-8669f75d9845",
        "colab": {
          "base_uri": "https://localhost:8080/",
          "height": 419
        }
      },
      "source": [
        "rand_hist_data.iloc[:,1: 3]"
      ],
      "execution_count": 0,
      "outputs": [
        {
          "output_type": "execute_result",
          "data": {
            "text/html": [
              "<div>\n",
              "<style scoped>\n",
              "    .dataframe tbody tr th:only-of-type {\n",
              "        vertical-align: middle;\n",
              "    }\n",
              "\n",
              "    .dataframe tbody tr th {\n",
              "        vertical-align: top;\n",
              "    }\n",
              "\n",
              "    .dataframe thead th {\n",
              "        text-align: right;\n",
              "    }\n",
              "</style>\n",
              "<table border=\"1\" class=\"dataframe\">\n",
              "  <thead>\n",
              "    <tr style=\"text-align: right;\">\n",
              "      <th></th>\n",
              "      <th>player_count</th>\n",
              "      <th>dollars</th>\n",
              "    </tr>\n",
              "  </thead>\n",
              "  <tbody>\n",
              "    <tr>\n",
              "      <th>1576067</th>\n",
              "      <td>2</td>\n",
              "      <td>1</td>\n",
              "    </tr>\n",
              "    <tr>\n",
              "      <th>218880</th>\n",
              "      <td>2</td>\n",
              "      <td>1</td>\n",
              "    </tr>\n",
              "    <tr>\n",
              "      <th>1717193</th>\n",
              "      <td>2</td>\n",
              "      <td>1</td>\n",
              "    </tr>\n",
              "    <tr>\n",
              "      <th>1707912</th>\n",
              "      <td>2</td>\n",
              "      <td>1</td>\n",
              "    </tr>\n",
              "    <tr>\n",
              "      <th>1644139</th>\n",
              "      <td>2</td>\n",
              "      <td>3</td>\n",
              "    </tr>\n",
              "    <tr>\n",
              "      <th>...</th>\n",
              "      <td>...</td>\n",
              "      <td>...</td>\n",
              "    </tr>\n",
              "    <tr>\n",
              "      <th>521886</th>\n",
              "      <td>16</td>\n",
              "      <td>9</td>\n",
              "    </tr>\n",
              "    <tr>\n",
              "      <th>1229701</th>\n",
              "      <td>18</td>\n",
              "      <td>9</td>\n",
              "    </tr>\n",
              "    <tr>\n",
              "      <th>1442223</th>\n",
              "      <td>19</td>\n",
              "      <td>9</td>\n",
              "    </tr>\n",
              "    <tr>\n",
              "      <th>1253215</th>\n",
              "      <td>19</td>\n",
              "      <td>9</td>\n",
              "    </tr>\n",
              "    <tr>\n",
              "      <th>506263</th>\n",
              "      <td>19</td>\n",
              "      <td>9</td>\n",
              "    </tr>\n",
              "  </tbody>\n",
              "</table>\n",
              "<p>10000 rows × 2 columns</p>\n",
              "</div>"
            ],
            "text/plain": [
              "         player_count  dollars\n",
              "1576067             2        1\n",
              "218880              2        1\n",
              "1717193             2        1\n",
              "1707912             2        1\n",
              "1644139             2        3\n",
              "...               ...      ...\n",
              "521886             16        9\n",
              "1229701            18        9\n",
              "1442223            19        9\n",
              "1253215            19        9\n",
              "506263             19        9\n",
              "\n",
              "[10000 rows x 2 columns]"
            ]
          },
          "metadata": {
            "tags": []
          },
          "execution_count": 53
        }
      ]
    },
    {
      "cell_type": "markdown",
      "metadata": {
        "id": "S-FQ82flJweu",
        "colab_type": "text"
      },
      "source": [
        "#Split train/ test"
      ]
    },
    {
      "cell_type": "code",
      "metadata": {
        "id": "WFwQBWs_ils0",
        "colab_type": "code",
        "colab": {}
      },
      "source": [
        "# Get the featuers and labels\n",
        "X = rand_hist_data.iloc[:,1:3]\n",
        "y = rand_hist_data.iloc[:, 3]"
      ],
      "execution_count": 0,
      "outputs": []
    },
    {
      "cell_type": "code",
      "metadata": {
        "id": "gvJrE5iOLAXg",
        "colab_type": "code",
        "colab": {}
      },
      "source": [
        "x_training_set, x_test_set, y_training_set, y_test_set = train_test_split(X,y,test_size=0.10, random_state=42, shuffle=True)"
      ],
      "execution_count": 0,
      "outputs": []
    },
    {
      "cell_type": "code",
      "metadata": {
        "id": "M1y61IJ9Lw7G",
        "colab_type": "code",
        "outputId": "d6fd117e-a183-475e-e76c-f1cbd2e18b24",
        "colab": {
          "base_uri": "https://localhost:8080/",
          "height": 136
        }
      },
      "source": [
        "n_estimators=100\n",
        "# Fit regression model\n",
        "# Estimate the score on the entire dataset, with no missing values\n",
        "model = RandomForestRegressor(random_state=0, n_estimators=n_estimators)\n",
        "model.fit(x_training_set, y_training_set)"
      ],
      "execution_count": 0,
      "outputs": [
        {
          "output_type": "execute_result",
          "data": {
            "text/plain": [
              "RandomForestRegressor(bootstrap=True, criterion='mse', max_depth=None,\n",
              "                      max_features='auto', max_leaf_nodes=None,\n",
              "                      min_impurity_decrease=0.0, min_impurity_split=None,\n",
              "                      min_samples_leaf=1, min_samples_split=2,\n",
              "                      min_weight_fraction_leaf=0.0, n_estimators=100,\n",
              "                      n_jobs=None, oob_score=False, random_state=0, verbose=0,\n",
              "                      warm_start=False)"
            ]
          },
          "metadata": {
            "tags": []
          },
          "execution_count": 56
        }
      ]
    },
    {
      "cell_type": "code",
      "metadata": {
        "id": "g0HIlAlcMZk2",
        "colab_type": "code",
        "outputId": "b928f37f-5f18-439c-9ce3-82d70d9d52e8",
        "colab": {
          "base_uri": "https://localhost:8080/",
          "height": 85
        }
      },
      "source": [
        "from sklearn.metrics import mean_squared_error, r2_score\n",
        "model_score = model.score(x_training_set,y_training_set)\n",
        "# Have a look at R sq to give an idea of the fit ,\n",
        "# Explained variance score: 1 is perfect prediction\n",
        "print('coefficient of determination R^2 of the prediction: {}'.format(model_score))\n",
        "y_predicted = model.predict(x_test_set)\n",
        "\n",
        "# The mean squared error\n",
        "print(\"Mean squared error: %.2f\"% mean_squared_error(y_test_set, y_predicted))\n",
        "# Explained variance score: 1 is perfect prediction\n",
        "print('Test Variance score: %.2f' % r2_score(y_test_set, y_predicted))\n",
        "\n",
        "# The mean absolute error\n",
        "errors = abs(y_predicted - y_test_set)\n",
        "# Print out the mean absolute error (mae)\n",
        "print('Mean Absolute Error:', round(np.mean(errors), 2), 'rounds.')\n"
      ],
      "execution_count": 0,
      "outputs": [
        {
          "output_type": "stream",
          "text": [
            "coefficient of determination R^2 of the prediction: 0.9221786996751233\n",
            "Mean squared error: 2077.99\n",
            "Test Variance score: 0.91\n",
            "Mean Absolute Error: 31.72 rounds.\n"
          ],
          "name": "stdout"
        }
      ]
    },
    {
      "cell_type": "code",
      "metadata": {
        "id": "qlKE6aj5M3vC",
        "colab_type": "code",
        "outputId": "bda8618d-0811-4949-ec0d-0ba88fd53c21",
        "colab": {
          "base_uri": "https://localhost:8080/",
          "height": 295
        }
      },
      "source": [
        "from sklearn.model_selection import cross_val_predict\n",
        "\n",
        "fig, ax = plt.subplots()\n",
        "\n",
        "ax.scatter(y_test_set, y_predicted, edgecolors=(0, 0, 0))\n",
        "\n",
        "ax.plot([y_test_set.min(), y_test_set.max()], [y_test_set.min(), y_test_set.max()], 'k--', lw=4)\n",
        "\n",
        "ax.set_xlabel('Actual')\n",
        "\n",
        "ax.set_ylabel('Predicted')\n",
        "\n",
        "ax.set_title(\"Actual vs Predicted\")\n",
        "\n",
        "plt.show()"
      ],
      "execution_count": 0,
      "outputs": [
        {
          "output_type": "display_data",
          "data": {
            "image/png": "[encoded data removed]",
            "text/plain": [
              "<Figure size 432x288 with 1 Axes>"
            ]
          },
          "metadata": {
            "tags": []
          }
        }
      ]
    },
    {
      "cell_type": "code",
      "metadata": {
        "id": "8EbXGW6IU4ZX",
        "colab_type": "code",
        "colab": {}
      },
      "source": [
        "importances = list(model.feature_importances_)"
      ],
      "execution_count": 0,
      "outputs": []
    },
    {
      "cell_type": "code",
      "metadata": {
        "id": "ksWM5BDMU7nF",
        "colab_type": "code",
        "outputId": "8674ee96-9b49-459f-8053-f87627fb95a6",
        "colab": {
          "base_uri": "https://localhost:8080/",
          "height": 34
        }
      },
      "source": [
        "importances"
      ],
      "execution_count": 0,
      "outputs": [
        {
          "output_type": "execute_result",
          "data": {
            "text/plain": [
              "[0.7321194313299865, 0.2678805686700136]"
            ]
          },
          "metadata": {
            "tags": []
          },
          "execution_count": 61
        }
      ]
    },
    {
      "cell_type": "code",
      "metadata": {
        "id": "12Av-lGBU85K",
        "colab_type": "code",
        "colab": {}
      },
      "source": [
        ""
      ],
      "execution_count": 0,
      "outputs": []
    }
  ]
}